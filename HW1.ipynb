{
 "cells":[
  {
   "cell_type":"markdown",
   "source":[
    "## Домашняя работа 1\n",
    "\n",
    "1. Взять свою фамилию латинскими буквами, сконвертировать каждый символ в фамилии в число (код по таблице ASCII, используя методы типа Char). Посчитать сумму полученных чисел."
   ],
   "attachments":{
    
   },
   "metadata":{
    "datalore":{
     "type":"MD",
     "hide_input_from_viewers":false,
     "hide_output_from_viewers":false
    }
   }
  },
  {
   "cell_type":"code",
   "source":[
    "val surname: String = \"Kleimenov\""
   ],
   "execution_count":1,
   "outputs":[
    
   ],
   "metadata":{
    "datalore":{
     "type":"CODE",
     "hide_input_from_viewers":false,
     "hide_output_from_viewers":false
    }
   }
  },
  {
   "cell_type":"code",
   "source":[
    "fun surnameSum(sn: String): Int {\n",
    "    val symCodes = sn.map { sym -> sym.code }\n",
    "\n",
    "    return symCodes.sum()\n",
    "}\n",
    "\n",
    "surnameSum(surname)"
   ],
   "execution_count":2,
   "outputs":[
    {
     "data":{
      "text\/plain":[
       "938"
      ]
     },
     "metadata":{
      
     },
     "output_type":"display_data"
    }
   ],
   "metadata":{
    "datalore":{
     "type":"CODE",
     "hide_input_from_viewers":false,
     "hide_output_from_viewers":false
    }
   }
  },
  {
   "cell_type":"code",
   "source":[
    "val path: String = \"ks-2022-1\/data\/numbers.txt\""
   ],
   "execution_count":3,
   "outputs":[
    
   ],
   "metadata":{
    "datalore":{
     "type":"CODE",
     "hide_input_from_viewers":false,
     "hide_output_from_viewers":false
    }
   }
  },
  {
   "cell_type":"markdown",
   "source":[
    "2. Взять число, полученное в пункте 1 по модулю 10. Полученное число обозначим за a. Взять данные из файла data\/numbers.txt c номерами строк от a*100 до (a + 1)*100 и сконвертировать их в числа. Посчитать среднее значение, дисперсию и медиану для полученных чисел."
   ],
   "attachments":{
    
   },
   "metadata":{
    "datalore":{
     "type":"MD",
     "hide_input_from_viewers":false,
     "hide_output_from_viewers":false
    }
   }
  },
  {
   "cell_type":"code",
   "source":[
    "import java.io.File\n",
    "\n",
    "fun readFileDouble(fileName: String): List<Double> = File(fileName).readLines().map { it.toDouble() }\n",
    "\n",
    "fun avg(dataList: List<Double>): Double = dataList.sum() \/ dataList.size\n",
    "\n",
    "fun dispersion(dataList: List<Double>): Double {\n",
    "    val a = avg(dataList)\n",
    "    return dataList.map { (it - a).pow(2) }.sum().pow(0.5) \/ dataList.size\n",
    "}\n",
    "\n",
    "fun median(dataList: List<Double>): Double {\n",
    "    val len = dataList.size\n",
    "    if (dataList.size % 2 == 0)\n",
    "        return (dataList.get(len\/2) + dataList.get(len\/2 + 1)) \/ 2\n",
    "    return dataList.get(len\/2)\n",
    "}\n",
    "\n",
    "fun result(dataList: List<Double>){\n",
    "    println(\"\"\"\n",
    "        Average = ${avg(dataList)}\n",
    "        Dispersion = ${dispersion(dataList)}\n",
    "        Median = ${median(dataList)}\n",
    "        \"\"\".trimIndent()\n",
    "        )\n",
    "    return\n",
    "}"
   ],
   "execution_count":49,
   "outputs":[
    
   ],
   "metadata":{
    "datalore":{
     "type":"CODE",
     "hide_input_from_viewers":false,
     "hide_output_from_viewers":false
    }
   }
  },
  {
   "cell_type":"code",
   "source":[
    "fun fileOperations(num: Int) {\n",
    "    val a: Int = num % 10\n",
    "\n",
    "    val dataFromFile: List<Double> = readFileDouble(path).slice(a*100..(a+1)*100).sorted()\n",
    "\n",
    "    result(dataFromFile)\n",
    "    return\n",
    "}\n",
    "\n",
    "fileOperations(surnameSum(surname))"
   ],
   "execution_count":50,
   "outputs":[
    {
     "name":"stdout",
     "text":[
      "Average = 8.652934878455904\n",
      "Dispersion = 0.9552140174225854\n",
      "Median = 9.172428943141089\n"
     ],
     "output_type":"stream"
    }
   ],
   "metadata":{
    "datalore":{
     "type":"CODE",
     "hide_input_from_viewers":false,
     "hide_output_from_viewers":false
    }
   }
  },
  {
   "cell_type":"markdown",
   "source":[
    "3. Для полного набора данных из data\/numbers.txt составить набор пар (самое большое числое, самое маленькое число), (второе по величине, - второе по малости) и так далее. Посчитать для каждой пары сумму и вывести полученные значения в результат ячейки или новый файл. Посчитать среднее, дисперсию и медиану для полученного списка."
   ],
   "attachments":{
    
   },
   "metadata":{
    "datalore":{
     "type":"MD",
     "hide_input_from_viewers":false,
     "hide_output_from_viewers":false
    }
   }
  },
  {
   "cell_type":"code",
   "source":[
    "fun writeData(dataList: List<Any>, fileName: String) {\n",
    "    File(fileName).printWriter().use { out -> out.println(dataList.joinToString(separator=\"\\n\")) }\n",
    "    return\n",
    "}\n",
    "\n",
    "fun pairOperations() {\n",
    "    val dataFromFile: List<Double> = readFileDouble(path).sorted()\n",
    "    val len: Int = dataFromFile.size\n",
    "    \n",
    "    var i = 1;\n",
    "    val pairSumList = List(len\/2, { dataFromFile[i] + dataFromFile[len - 1 - i++] })\n",
    "\n",
    "    writeData(pairSumList, \"ks-2022-1\/data\/pairsums.txt\")\n",
    "\n",
    "    result(pairSumList)\n",
    "\n",
    "    return\n",
    "}\n",
    "\n",
    "pairOperations()"
   ],
   "execution_count":51,
   "outputs":[
    {
     "name":"stdout",
     "text":[
      "Average = 99.97211166457602\n",
      "Dispersion = 0.004614110630681661\n",
      "Median = 99.59978741341507\n"
     ],
     "output_type":"stream"
    }
   ],
   "metadata":{
    "datalore":{
     "type":"CODE",
     "hide_input_from_viewers":false,
     "hide_output_from_viewers":false
    }
   }
  },
  {
   "cell_type":"markdown",
   "source":[
    "4. (со *, творческая). Экспериментально исследовать точность сравнения чисел с плавающей точкой (Double) в разных диапазонах этих чисел."
   ],
   "attachments":{
    
   },
   "metadata":{
    "datalore":{
     "type":"MD",
     "hide_input_from_viewers":false,
     "hide_output_from_viewers":false
    }
   }
  }
 ],
 "metadata":{
  "kernelspec":{
   "display_name":"Kotlin",
   "language":"kotlin",
   "name":"kotlin"
  },
  "datalore":{
   "version":1,
   "computation_mode":"JUPYTER",
   "package_manager":"pip",
   "base_environment":"default",
   "packages":[
    
   ]
  }
 },
 "nbformat":4,
 "nbformat_minor":4
}